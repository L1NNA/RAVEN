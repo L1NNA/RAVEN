{
 "cells": [
  {
   "cell_type": "code",
   "execution_count": 31,
   "metadata": {},
   "outputs": [],
   "source": [
    "import tensorflow as tf\n",
    "import os\n",
    "import json\n",
    "from dps import read_tagged_json\n",
    "from tfutils import pkl_load\n",
    "from tqdm import tqdm_notebook\n",
    "falcon = 'experiment\\\\falcon\\\\data\\\\'\n",
    "cuckoo = 'experiment\\\\cuckoo\\\\data\\\\'"
   ]
  },
  {
   "cell_type": "code",
   "execution_count": 32,
   "metadata": {},
   "outputs": [
    {
     "data": {
      "text/plain": [
       "581"
      ]
     },
     "execution_count": 32,
     "metadata": {},
     "output_type": "execute_result"
    }
   ],
   "source": [
    "cuckoo_proto = pkl_load('experiment\\\\cuckoo\\\\data.pk')\n",
    "cuckoo_test = set([os.path.basename(f) for f in (cuckoo_proto.vld+cuckoo_proto.tst)])\n",
    "shared = [f for f in os.listdir(falcon) if f in cuckoo_test]\n",
    "len(shared)"
   ]
  },
  {
   "cell_type": "code",
   "execution_count": 33,
   "metadata": {},
   "outputs": [
    {
     "data": {
      "application/vnd.jupyter.widget-view+json": {
       "model_id": "7502b504bf14489f87c5b2a67359fbcb",
       "version_major": 2,
       "version_minor": 0
      },
      "text/plain": [
       "HBox(children=(IntProgress(value=0, max=581), HTML(value='')))"
      ]
     },
     "metadata": {},
     "output_type": "display_data"
    },
    {
     "name": "stderr",
     "output_type": "stream",
     "text": [
      "\n",
      "\n",
      "\n",
      "\n",
      "\n"
     ]
    },
    {
     "name": "stdout",
     "output_type": "stream",
     "text": [
      "\n"
     ]
    }
   ],
   "source": [
    "files = [f for f in tqdm_notebook(shared) if len(read_tagged_json(os.path.join(falcon, f))['rsk']) > 10]"
   ]
  },
  {
   "cell_type": "code",
   "execution_count": 47,
   "metadata": {},
   "outputs": [],
   "source": [
    "def check(f):\n",
    "    print(f)\n",
    "    print(read_tagged_json(os.path.join(falcon, f))['rsk'])\n",
    "    print(read_tagged_json(os.path.join(cuckoo, f))['rsk'])\n",
    "    print()"
   ]
  },
  {
   "cell_type": "code",
   "execution_count": 48,
   "metadata": {},
   "outputs": [
    {
     "name": "stdout",
     "output_type": "stream",
     "text": [
      "003315b0aea2fcb9f77d29223dd8947d0e6792b3a0227e054be8eb2a11f443d9.tagged.json\n",
      "{'spreading_1': 'tries to access unusual system drive letters'}\n",
      "{'antivm_queries_computername': 'queries for the computername', 'raises_exception': 'one or more processes crashed', 'checks_debugger': 'checks if process is being debugged by a debugger', 'pe_unknown_resource_name': 'the file contains an unknown pe resource name possibly indicative of a packer', 'exe_appdata': 'drops an executable to the user appdata folder', 'allocates_rwx': 'allocates read-write-execute memory (usually to unpack itself)', 'peid_packer': 'the executable uses a known packer'}\n",
      "\n",
      "00bfb6206462d0bb248948ea12b32ed702e7c406fad74aca882d57be5e300f7f.tagged.json\n",
      "{'remote_access_6': 'reads terminal service related keys often rdp related', 'network': 'contact hosts or domains.'}\n",
      "{'packer_entropy': 'the binary likely contains encrypted or compressed data indicative of a packer', 'network_icmp': 'generates some icmp traffic', 'checks_debugger': 'checks if process is being debugged by a debugger', 'packer_upx': 'the executable is compressed using upx'}\n",
      "\n",
      "012449434fc338d7088ad394fb01fc7fb6b64b3a192efbabbe1d99c5d2916c32.tagged.json\n",
      "{'spyware/leak_1': 'posts files to a webserver', 'fingerprint_13': 'reads the active computer name', 'remote_access_6': 'reads terminal service related keys often rdp related', 'stealer/phishing_2': 'tries to steal ftp credentials', 'fingerprint_6': 'reads the cryptographic machine guid', 'persistence_14': 'writes data to a remote process', 'remote_access_1': 'contains a remote desktop related string', 'network': 'contact hosts or domains.', 'credential_stealer_0': 'scans for artifacts that may help identify the target'}\n",
      "{'recon_fingerprint': 'collects information to fingerprint the system (machineguid, digitalproductid, systembiosdate)', 'packer_entropy': 'the binary likely contains encrypted or compressed data indicative of a packer', 'network_icmp': 'generates some icmp traffic', 'infostealer_mail': 'harvests credentials from local email clients', 'peid_packer': 'the executable uses a known packer', 'dumped_buffer': 'one or more potentially interesting buffers were extracted, these generally contain injected code, configuration data, etc.', 'injection_runpe': 'executed a process and injected code into it, probably while unpacking', 'allocates_rwx': 'allocates read-write-execute memory (usually to unpack itself)', 'memdump_urls': 'potentially malicious urls were found in the process memory dump', 'infostealer_im': 'harvests information related to installed instant messenger clients', 'injection_resumethread': 'resumed a suspended thread in a remote process potentially indicative of process injection', 'antivm_queries_computername': 'queries for the computername', 'injection_ntsetcontextthread': 'used ntsetcontextthread to modify a thread in a remote process indicative of process injection', 'detect_putty': 'putty files, registry keys and/or mutexes detected', 'infostealer_browser': 'steals private information from local internet browsers', 'infostealer_ftp': 'harvests credentials from local ftp client softwares', 'privilege_luid_check': 'checks for the locally unique identifier on the system for a suspicious privilege', 'locates_browser': 'tries to locate where the browsers are installed', 'antivm_memory_available': 'checks amount of memory in system, this can be used to detect virtual machines that have a low amount of memory available', 'pe_features': 'the executable contains unknown pe section names indicative of a packer (could be a false positive)'}\n",
      "\n",
      "0145509b9d628522a53d3f4ab5c194292f7ac008f19c8fd3e3486d8a1d198577.tagged.json\n",
      "{'persistence_14': 'writes data to a remote process', 'remote_access_6': 'reads terminal service related keys often rdp related'}\n",
      "{'process_interest': 'expresses interest in specific running processes', 'packer_entropy': 'the binary likely contains encrypted or compressed data indicative of a packer', 'network_icmp': 'generates some icmp traffic', 'pe_features': 'the executable contains unknown pe section names indicative of a packer (could be a false positive)', 'infostealer_keylogger': 'creates a windows hook that monitors keyboard input (keylogger)', 'dumped_buffer': 'one or more potentially interesting buffers were extracted, these generally contain injected code, configuration data, etc.', 'injection_runpe': 'executed a process and injected code into it, probably while unpacking', 'uses_windows_utilities': 'uses windows utilities for basic windows functionality', 'injection_resumethread': 'resumed a suspended thread in a remote process potentially indicative of process injection', 'injection_process_search': 'searches running processes potentially to identify processes for sandbox evasion, code injection or memory dumping', 'peid_packer': 'the executable uses a known packer', 'persistence_ads': 'creates an alternate data stream (ads)', 'injection_ntsetcontextthread': 'used ntsetcontextthread to modify a thread in a remote process indicative of process injection', 'antisandbox_sleep': 'a process attempted to delay the analysis task.', 'persistence_autorun': 'installs itself for autorun at windows startup', 'disables_security': 'disables windows security features', 'stealth_window': 'a process created a hidden window', 'allocates_rwx': 'allocates read-write-execute memory (usually to unpack itself)', 'console_output': 'command line console output was observed', 'deletes_executed_files': 'deletes executed files from disk'}\n",
      "\n",
      "01675c7ab0f4a5807ec4b04c03c5636d01ff0958c64e6a3792463f6ce16a7af7.tagged.json\n",
      "{'spyware/leak_1': 'posts files to a webserver', 'fingerprint_13': 'reads the active computer name', 'network': 'contact hosts or domains.', 'remote_access_6': 'reads terminal service related keys often rdp related'}\n",
      "{'origin_langid': 'foreign language identified in pe resource', 'recon_beacon': 'a process performed obfuscation on information about the computer or sent it to a remote location indicative of cnc traffic/preperations.', 'pe_features': 'the executable contains unknown pe section names indicative of a packer (could be a false positive)', 'modifies_proxy_wpad': 'sets or modifies wpad proxy autoconfiguration file for traffic interception', 'malicious_document_urls': 'potentially malicious url found in document', 'stealth_window': 'a process created a hidden window', 'uses_windows_utilities': 'uses windows utilities for basic windows functionality', 'wmi_antivm': 'executes one or more wmi queries which can be used to identify virtual machines', 'network_document_file': 'network communications indicative of a potential document or script payload download was initiated by the process wscript.exe', 'process_martian': 'one or more martian processes was created', 'network_wscript_downloader': 'wscript.exe initiated network communications indicative of a script based payload download', 'antivm_queries_computername': 'queries for the computername', 'has_wmi': 'executes one or more wmi queries', 'network_icmp': 'generates some icmp traffic', 'suspicious_process': 'creates a suspicious process', 'antivm_network_adapters': 'checks adapter addresses which can be used to detect virtual network interfaces', 'suspicious_write_exe': 'the process wscript.exe wrote an executable file to disk which it then attempted to execute', 'persistence_autorun': 'installs itself for autorun at windows startup', 'console_output': 'command line console output was observed', 'antivm_memory_available': 'checks amount of memory in system, this can be used to detect virtual machines that have a low amount of memory available'}\n",
      "\n",
      "01cdc49b1b8b9053c31c2256778df8c1338e042760327406deeaa46716e002bf.tagged.json\n"
     ]
    },
    {
     "name": "stdout",
     "output_type": "stream",
     "text": [
      "{'persistence_3': 'modifies autoexecute functionality by settingcreating a value in the registry', 'fingerprint_13': 'reads the active computer name', 'remote_access_6': 'reads terminal service related keys often rdp related', 'evasive_18': 'possibly checks for the presence of an antivirus engine', 'fingerprint_6': 'reads the cryptographic machine guid', 'adware_0': 'possibly checks for the presence of an adware detecting tool', 'spreading_3': 'opens the mountpointmanager often used to detect additional infection locations'}\n",
      "{'antisandbox_sleep': 'a process attempted to delay the analysis task.', 'antivm_queries_computername': 'queries for the computername', 'network_icmp': 'generates some icmp traffic', 'infostealer_keylogger': 'creates a windows hook that monitors keyboard input (keylogger)', 'privilege_luid_check': 'checks for the locally unique identifier on the system for a suspicious privilege', 'creates_shortcut': 'creates a shortcut to an executable file', 'antivm_disk_size': 'queries the disk size which could be used to detect virtual machine with small fixed size or dynamic allocation', 'antisandbox_foregroundwindows': 'checks whether any human activity is being performed by constantly checking whether the foreground window changed', 'antivm_memory_available': 'checks amount of memory in system, this can be used to detect virtual machines that have a low amount of memory available'}\n",
      "\n",
      "01d98afcbc571228b441bfbd597a616a9a87ad98590df886d4d0baedd165f89d.tagged.json\n",
      "{'persistence_14': 'writes data to a remote process', 'fingerprint_13': 'reads the active computer name', 'fingerprint_6': 'reads the cryptographic machine guid', 'remote_access_6': 'reads terminal service related keys often rdp related'}\n",
      "{'packer_entropy': 'the binary likely contains encrypted or compressed data indicative of a packer', 'antivm_memory_available': 'checks amount of memory in system, this can be used to detect virtual machines that have a low amount of memory available', 'network_icmp': 'generates some icmp traffic', 'console_output': 'command line console output was observed', 'exe_appdata': 'drops an executable to the user appdata folder'}\n",
      "\n",
      "021b78b9a876ddc078d799b076b4d229e2531cc281c955a7cf77ebf8568714cc.tagged.json\n",
      "{'spyware/leak_1': 'posts files to a webserver', 'fingerprint_13': 'reads the active computer name', 'remote_access_6': 'reads terminal service related keys often rdp related', 'stealer/phishing_2': 'tries to steal ftp credentials', 'fingerprint_6': 'reads the cryptographic machine guid', 'persistence_14': 'writes data to a remote process', 'remote_access_1': 'contains a remote desktop related string', 'network': 'contact hosts or domains.', 'credential_stealer_0': 'scans for artifacts that may help identify the target'}\n",
      "{'recon_fingerprint': 'collects information to fingerprint the system (machineguid, digitalproductid, systembiosdate)', 'packer_entropy': 'the binary likely contains encrypted or compressed data indicative of a packer', 'network_icmp': 'generates some icmp traffic', 'infostealer_mail': 'harvests credentials from local email clients', 'peid_packer': 'the executable uses a known packer', 'dumped_buffer': 'one or more potentially interesting buffers were extracted, these generally contain injected code, configuration data, etc.', 'injection_runpe': 'executed a process and injected code into it, probably while unpacking', 'allocates_rwx': 'allocates read-write-execute memory (usually to unpack itself)', 'memdump_urls': 'potentially malicious urls were found in the process memory dump', 'infostealer_im': 'harvests information related to installed instant messenger clients', 'injection_resumethread': 'resumed a suspended thread in a remote process potentially indicative of process injection', 'antivm_queries_computername': 'queries for the computername', 'injection_ntsetcontextthread': 'used ntsetcontextthread to modify a thread in a remote process indicative of process injection', 'detect_putty': 'putty files, registry keys and/or mutexes detected', 'infostealer_browser': 'steals private information from local internet browsers', 'infostealer_ftp': 'harvests credentials from local ftp client softwares', 'privilege_luid_check': 'checks for the locally unique identifier on the system for a suspicious privilege', 'locates_browser': 'tries to locate where the browsers are installed', 'antivm_memory_available': 'checks amount of memory in system, this can be used to detect virtual machines that have a low amount of memory available', 'moves_self': 'moves the original executable to a new location', 'pe_features': 'the executable contains unknown pe section names indicative of a packer (could be a false positive)'}\n",
      "\n",
      "027a6b97607fae1632510c1baa9aeabbf8ccdb74459245cbd0733f18184b8a86.tagged.json\n",
      "{'persistence_3': 'modifies autoexecute functionality by settingcreating a value in the registry', 'ransomware_7': 'the analysis extracted a known ransomware file', 'remote_access_6': 'reads terminal service related keys often rdp related'}\n",
      "{'persistence_autorun': 'installs itself for autorun at windows startup', 'network_icmp': 'generates some icmp traffic', 'pe_unknown_resource_name': 'the file contains an unknown pe resource name possibly indicative of a packer', 'creates_doc': 'creates (office) documents on the filesystem', 'ransomware_dropped_files': 'drops 158 unknown file mime types indicative of ransomware writing encrypted files back to disk', 'creates_shortcut': 'creates a shortcut to an executable file'}\n",
      "\n",
      "02e626f81862d9e3727ec9a34e17caf8fb15971ebe76aa8b119d9fb6d6e4abd6.tagged.json\n",
      "{'fingerprint_13': 'reads the active computer name', 'network': 'contact hosts or domains.', 'remote_access_6': 'reads terminal service related keys often rdp related'}\n",
      "{'packer_entropy': 'the binary likely contains encrypted or compressed data indicative of a packer', 'origin_langid': 'foreign language identified in pe resource', 'network_icmp': 'generates some icmp traffic', 'pe_features': 'the executable contains unknown pe section names indicative of a packer (could be a false positive)', 'checks_debugger': 'checks if process is being debugged by a debugger', 'allocates_rwx': 'allocates read-write-execute memory (usually to unpack itself)', 'raises_exception': 'one or more processes crashed'}\n",
      "\n"
     ]
    }
   ],
   "source": [
    "for i in range(10):\n",
    "    check(shared[i])"
   ]
  },
  {
   "cell_type": "code",
   "execution_count": null,
   "metadata": {},
   "outputs": [],
   "source": []
  }
 ],
 "metadata": {
  "kernelspec": {
   "display_name": "Python 3",
   "language": "python",
   "name": "python3"
  },
  "language_info": {
   "codemirror_mode": {
    "name": "ipython",
    "version": 3
   },
   "file_extension": ".py",
   "mimetype": "text/x-python",
   "name": "python",
   "nbconvert_exporter": "python",
   "pygments_lexer": "ipython3",
   "version": "3.5.5"
  }
 },
 "nbformat": 4,
 "nbformat_minor": 2
}
